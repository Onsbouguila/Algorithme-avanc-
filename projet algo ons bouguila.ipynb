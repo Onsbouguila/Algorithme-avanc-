{
 "cells": [
  {
   "cell_type": "markdown",
   "metadata": {},
   "source": [
    "<h1><span style=\"color:#FAE300\"> Projet algorithme avancée</h1>\n",
    "<h3> thème: <span style=\"color:#F68BD7\"> récursivité</span></h3>\n",
    "<h2>Réalisé par : <span style=\"color:#A759F3\">  Ons Bouguila   2DNI2</span>  </h2>\n",
    "\n"
   ]
  },
  {
   "cell_type": "markdown",
   "metadata": {},
   "source": [
    "<p>L'algorithme EstLibre teste si la case à la ligne ligne et à la colonne colonne n'est pas menacée par les reines précédemment placées. \n",
    " Il n'est pas nécessaire de disposer d'une matrice booléenne pour savoir quelles sont les cases menacées ou non au fur et mesure de l'évolution de l'algorithme, les positions des reines sur les lignes qui précèdent suffisent et cette information est dans la table S.\n",
    "La vérification se fait en observant qu'aucune reine précédente n'est placée sur la même ligne, sur la même colonne ou les mêmes diagonales. </p>\n"
   ]
  },
  {
   "cell_type": "markdown",
   "metadata": {},
   "source": [
    "<h4><span style=\"color:blue\"> La fonction EstLibre </span>  </h4>"
   ]
  },
  {
   "cell_type": "code",
   "execution_count": 55,
   "metadata": {},
   "outputs": [],
   "source": [
    "def EstLibre(positions):\n",
    "     n = len(positions)\n",
    "    # Aucune reine n'est sur la même ligne\n",
    "     if len({i for (i, j) in positions}) < n:\n",
    "        return 0\n",
    "    # Aucune reine n'est sur la même colonne\n",
    "     if len({j for (i, j) in positions}) < n:\n",
    "        return 0\n",
    "    # Aucune reine n'est sur la même diagonal descendante\n",
    "     if len({i + j for (i, j) in positions}) < n:\n",
    "        return 0\n",
    "    # Aucune reine n'est sur la même diagonal montante\n",
    "     if len({i - j for (i, j) in positions}) < n:\n",
    "        return 0\n",
    "     return 1"
   ]
  },
  {
   "cell_type": "markdown",
   "metadata": {},
   "source": [
    "<h4><span style=\"color:blue\"> La fonction afficheEchiquier qui permet d'afficher l'échiquier d'une façon simple </span>  </h4>"
   ]
  },
  {
   "cell_type": "code",
   "execution_count": 76,
   "metadata": {},
   "outputs": [],
   "source": [
    "def afficheEchiquier(positions):\n",
    "    n = len(positions)\n",
    "    print(\"\\n\" + (\"=\" * 2 * n))\n",
    "    print(\"\\n\".join('* ' * i + 'R ' + '* ' * (n - i - 1) for i in positions))\n",
    "    print((\"=\" * 2 * n) + \"\\n\")"
   ]
  },
  {
   "cell_type": "markdown",
   "metadata": {},
   "source": [
    "<h4><span style=\"color:blue\"> La fonction PlaceReine_rec est une fonction récursive qui permet de placer les reines. </span>  </h4>"
   ]
  },
  {
   "cell_type": "code",
   "execution_count": 77,
   "metadata": {},
   "outputs": [],
   "source": [
    "def PlacerReine_rec(n, p, afficherSolutions=True):\n",
    "    i = len(p)\n",
    "    # Cas de base\n",
    "    if i == n:\n",
    "        if afficherSolutions:\n",
    "            afficheEchiquier(p)\n",
    "        return 1  # 1 solution trouvée\n",
    "    # Cas récursif : i < n\n",
    "    # emplacements possibles sur la ligne i\n",
    "    emplacements = [True] * n\n",
    "    # il y a une reine ligne k, colonne x\n",
    "    for k, x in enumerate(p):\n",
    "        emplacements[x] = False  # pas dans la même colonne\n",
    "        if x >= i - k:\n",
    "            emplacements[x - i + k] = False  # pas en diagonale\n",
    "        if x + i - k < n:\n",
    "            emplacements[x + i - k] = False  # idem\n",
    "    nbSol = 0\n",
    "    for x in range(n):\n",
    "        if emplacements[x]:\n",
    "            # On ajoute les solutions avec cet emplacement x\n",
    "            nbSol += PlacerReine_rec(n, p + [x], afficherSolutions)\n",
    "    return nbSol"
   ]
  },
  {
   "cell_type": "code",
   "execution_count": 78,
   "metadata": {},
   "outputs": [],
   "source": [
    "def PlacerReines(n, afficherSolutions=True):\n",
    "    return PlacerReine_rec(n, [], afficherSolutions=afficherSolutions)"
   ]
  },
  {
   "cell_type": "markdown",
   "metadata": {},
   "source": [
    "<h2> <span style=\"color:red\" > Exemples d'éxécution </span></h2>"
   ]
  },
  {
   "cell_type": "code",
   "execution_count": 79,
   "metadata": {},
   "outputs": [
    {
     "name": "stdout",
     "output_type": "stream",
     "text": [
      "Pour n = 1, affichons toutes les solutions : \n",
      "\n",
      "==\n",
      "R \n",
      "==\n",
      "\n",
      "\n",
      " ==> Pour n = 1, il y a 1 solution(s) : \n",
      "Pour n = 2, affichons toutes les solutions : \n",
      "\n",
      " ==> Pour n = 2, il y a 0 solution(s) : \n",
      "Pour n = 3, affichons toutes les solutions : \n",
      "\n",
      " ==> Pour n = 3, il y a 0 solution(s) : \n",
      "Pour n = 4, affichons toutes les solutions : \n",
      "\n",
      "========\n",
      "* R * * \n",
      "* * * R \n",
      "R * * * \n",
      "* * R * \n",
      "========\n",
      "\n",
      "\n",
      "========\n",
      "* * R * \n",
      "R * * * \n",
      "* * * R \n",
      "* R * * \n",
      "========\n",
      "\n",
      "\n",
      " ==> Pour n = 4, il y a 2 solution(s) : \n",
      "Pour n = 5, affichons toutes les solutions : \n",
      "\n",
      "==========\n",
      "R * * * * \n",
      "* * R * * \n",
      "* * * * R \n",
      "* R * * * \n",
      "* * * R * \n",
      "==========\n",
      "\n",
      "\n",
      "==========\n",
      "R * * * * \n",
      "* * * R * \n",
      "* R * * * \n",
      "* * * * R \n",
      "* * R * * \n",
      "==========\n",
      "\n",
      "\n",
      "==========\n",
      "* R * * * \n",
      "* * * R * \n",
      "R * * * * \n",
      "* * R * * \n",
      "* * * * R \n",
      "==========\n",
      "\n",
      "\n",
      "==========\n",
      "* R * * * \n",
      "* * * * R \n",
      "* * R * * \n",
      "R * * * * \n",
      "* * * R * \n",
      "==========\n",
      "\n",
      "\n",
      "==========\n",
      "* * R * * \n",
      "R * * * * \n",
      "* * * R * \n",
      "* R * * * \n",
      "* * * * R \n",
      "==========\n",
      "\n",
      "\n",
      "==========\n",
      "* * R * * \n",
      "* * * * R \n",
      "* R * * * \n",
      "* * * R * \n",
      "R * * * * \n",
      "==========\n",
      "\n",
      "\n",
      "==========\n",
      "* * * R * \n",
      "R * * * * \n",
      "* * R * * \n",
      "* * * * R \n",
      "* R * * * \n",
      "==========\n",
      "\n",
      "\n",
      "==========\n",
      "* * * R * \n",
      "* R * * * \n",
      "* * * * R \n",
      "* * R * * \n",
      "R * * * * \n",
      "==========\n",
      "\n",
      "\n",
      "==========\n",
      "* * * * R \n",
      "* R * * * \n",
      "* * * R * \n",
      "R * * * * \n",
      "* * R * * \n",
      "==========\n",
      "\n",
      "\n",
      "==========\n",
      "* * * * R \n",
      "* * R * * \n",
      "R * * * * \n",
      "* * * R * \n",
      "* R * * * \n",
      "==========\n",
      "\n",
      "\n",
      " ==> Pour n = 5, il y a 10 solution(s) : \n",
      "\n",
      " ==> Pour n = 6, il y a 4 solution(s) :  \n",
      "\n",
      " ==> Pour n = 7, il y a 40 solution(s) :  \n",
      "\n",
      " ==> Pour n = 8, il y a 92 solution(s) :  \n",
      "\n",
      " ==> Pour n = 9, il y a 352 solution(s) :  \n",
      "\n",
      " ==> Pour n = 10, il y a 724 solution(s) :  \n",
      "\n",
      " ==> Pour n = 11, il y a 2680 solution(s) :  \n",
      "\n",
      " ==> Pour n = 12, il y a 14200 solution(s) :  \n"
     ]
    }
   ],
   "source": [
    "for n in [1, 2, 3, 4, 5]:\n",
    "    print(\"Pour n = {}, affichons toutes les solutions : \".format(n))\n",
    "    nbSolutions = PlacerReines(n, afficherSolutions=True)\n",
    "    print(\"\\n ==> Pour n = {}, il y a {} solution(s) : \".format(n, nbSolutions))\n",
    "\n",
    "\n",
    "for n in [6, 7, 8, 9, 10, 11, 12]:\n",
    "    nbSolutions = PlacerReines(n, afficherSolutions=False)\n",
    "    print(\"\\n ==> Pour n = {}, il y a {} solution(s) :  \".format(n, nbSolutions))"
   ]
  },
  {
   "cell_type": "markdown",
   "metadata": {},
   "source": [
    "<h3> Un exemple qui n'est pas solution (deux dames colonne 1) </h3>"
   ]
  },
  {
   "cell_type": "code",
   "execution_count": 80,
   "metadata": {},
   "outputs": [
    {
     "name": "stdout",
     "output_type": "stream",
     "text": [
      "Pour les dames aux positions suivantes : [(0, 1), (1, 3), (2, 5), (3, 7), (4, 2), (5, 0), (6, 6), (7, 1)]\n",
      "Est-ce une solution valide ? Non.\n"
     ]
    }
   ],
   "source": [
    "\n",
    "positions = [(0, 1), (1, 3), (2, 5), (3, 7), (4, 2), (5, 0), (6, 6), (7, 1)]\n",
    "\n",
    "print(\"Pour les dames aux positions suivantes :\", positions)\n",
    "print(\"Est-ce une solution valide ?\", \"Oui\" if EstLibre(positions) else \"Non.\")"
   ]
  },
  {
   "cell_type": "markdown",
   "metadata": {},
   "source": [
    "<h3> Un exemple qui n'est pas solution (toutes les dames sur la même diagonale descendante)</h3>"
   ]
  },
  {
   "cell_type": "code",
   "execution_count": 81,
   "metadata": {},
   "outputs": [
    {
     "name": "stdout",
     "output_type": "stream",
     "text": [
      "Pour les dames aux positions suivantes : [(0, 0), (7, 7)]\n",
      "Est-ce une solution valide ? Non.\n"
     ]
    }
   ],
   "source": [
    "\n",
    "positions = [(0, 0), (7, 7)]\n",
    "\n",
    "print(\"Pour les dames aux positions suivantes :\", positions)\n",
    "print(\"Est-ce une solution valide ?\", \"Oui\" if EstLibre(positions) else \"Non.\")"
   ]
  },
  {
   "cell_type": "markdown",
   "metadata": {},
   "source": [
    "<h3>  Un exemple de solution </h3>"
   ]
  },
  {
   "cell_type": "code",
   "execution_count": 67,
   "metadata": {},
   "outputs": [
    {
     "name": "stdout",
     "output_type": "stream",
     "text": [
      "Pour les dames aux positions suivantes : [(0, 1), (1, 3), (2, 5), (3, 7), (4, 2), (5, 0), (6, 6), (7, 4)]\n",
      "Est-ce une solution valide ? Oui\n",
      "\n",
      "================\n",
      "* R * * * * * * \n",
      "* * * R * * * * \n",
      "* * * * * R * * \n",
      "* * * * * * * R \n",
      "* * R * * * * * \n",
      "R * * * * * * * \n",
      "* * * * * * R * \n",
      "* * * * R * * * \n",
      "================\n",
      "\n"
     ]
    }
   ],
   "source": [
    "\n",
    "positions = [(0, 1), (1, 3), (2, 5), (3, 7), (4, 2), (5, 0), (6, 6), (7, 4)]\n",
    "\n",
    "print(\"Pour les dames aux positions suivantes :\", positions)\n",
    "print(\"Est-ce une solution valide ?\", \"Oui\" if EstLibre(positions) else \"Non.\")\n",
    "afficheEchiquier([j0 for (i0, j0) in positions])"
   ]
  }
 ],
 "metadata": {
  "kernelspec": {
   "display_name": "Python 3",
   "language": "python",
   "name": "python3"
  },
  "language_info": {
   "codemirror_mode": {
    "name": "ipython",
    "version": 3
   },
   "file_extension": ".py",
   "mimetype": "text/x-python",
   "name": "python",
   "nbconvert_exporter": "python",
   "pygments_lexer": "ipython3",
   "version": "3.8.3"
  }
 },
 "nbformat": 4,
 "nbformat_minor": 4
}
